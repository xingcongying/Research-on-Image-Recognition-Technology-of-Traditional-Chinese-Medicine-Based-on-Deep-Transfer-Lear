{
 "cells": [
  {
   "cell_type": "code",
   "execution_count": 2,
   "metadata": {
    "ExecuteTime": {
     "end_time": "2019-08-15T14:35:42.500245Z",
     "start_time": "2019-08-15T14:35:42.495342Z"
    }
   },
   "outputs": [],
   "source": [
    "from PIL import Image\n",
    "import os.path\n",
    "import glob"
   ]
  },
  {
   "cell_type": "code",
   "execution_count": 3,
   "metadata": {
    "ExecuteTime": {
     "end_time": "2019-08-15T14:39:26.249091Z",
     "start_time": "2019-08-15T14:39:26.237799Z"
    }
   },
   "outputs": [],
   "source": [
    "def jpg_convert(image_file, out_dir, width = 300, height = 200):\n",
    "    image = Image.open(image_file)\n",
    "    try:\n",
    "        new_image = image.resize((width, height), Image.BILINEAR)\n",
    "        new_image.save(os.path.join(out_dir, os.path.basename(image_file)))\n",
    "    except Exception as e:\n",
    "        print(e)"
   ]
  },
  {
   "cell_type": "code",
   "execution_count": null,
   "metadata": {},
   "outputs": [],
   "source": [
    "for "
   ]
  }
 ],
 "metadata": {
  "kernelspec": {
   "display_name": "Python 3",
   "language": "python",
   "name": "python3"
  },
  "language_info": {
   "codemirror_mode": {
    "name": "ipython",
    "version": 3
   },
   "file_extension": ".py",
   "mimetype": "text/x-python",
   "name": "python",
   "nbconvert_exporter": "python",
   "pygments_lexer": "ipython3",
   "version": "3.5.2"
  }
 },
 "nbformat": 4,
 "nbformat_minor": 2
}
